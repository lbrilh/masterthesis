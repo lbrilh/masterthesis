{
 "cells": [
  {
   "cell_type": "markdown",
   "metadata": {},
   "source": [
    "# Import necessary libraries"
   ]
  },
  {
   "cell_type": "code",
   "execution_count": 1,
   "metadata": {},
   "outputs": [
    {
     "name": "stderr",
     "output_type": "stream",
     "text": [
      "/userdata/miniforge-pypy3/envs/dataICU/lib/python3.12/site-packages/tqdm/auto.py:21: TqdmWarning: IProgress not found. Please update jupyter and ipywidgets. See https://ipywidgets.readthedocs.io/en/stable/user_install.html\n",
      "  from .autonotebook import tqdm as notebook_tqdm\n"
     ]
    }
   ],
   "source": [
    "from sklearn.linear_model import LinearRegression as LR\n",
    "from sklearn.model_selection import train_test_split, GridSearchCV, cross_val_score\n",
    "from sklearn.metrics import mean_squared_error\n",
    "from sklearn.base import clone\n",
    "import pandas as pd\n",
    "import numpy as np\n",
    "import matplotlib.pyplot as plt\n",
    "import seaborn as sns\n",
    "import sweetviz as sv\n",
    "import copy\n",
    "import lightgbm as lgb\n",
    "import os\n",
    "import sys"
   ]
  },
  {
   "cell_type": "markdown",
   "metadata": {},
   "source": [
    "# Load and preprocess data set"
   ]
  },
  {
   "cell_type": "code",
   "execution_count": 2,
   "metadata": {},
   "outputs": [],
   "source": [
    "EICU_DATA_PATH_DYNAMIC = \"/userdata/lucabri/icu-experiments/data/processed/eicu_dynamic.parquet\"\n",
    "EICU_DATA_PATH_STATIC = \"/userdata/lucabri/icu-experiments/data/processed/eicu_static.parquet\"\n",
    "HIRID_DATA_PATH_DYNAMIC = \"/userdata/lucabri/icu-experiments/data/processed/hirid_dynamic.parquet\"\n",
    "HIRID_DATA_PATH_STATIC = \"/userdata/lucabri/icu-experiments/data/processed/hirid_static.parquet\"\n",
    "MIMIC_DATA_PATH_DYNAMIC = \"/userdata/lucabri/icu-experiments/data/processed/mimic_dynamic.parquet\"\n",
    "MIMIC_DATA_PATH_STATIC = \"/userdata/lucabri/icu-experiments/data/processed/mimic_static.parquet\"\n",
    "MIIV_DATA_PATH_STATIC = \"/userdata/lucabri/icu-experiments/data/processed/miiv_static.parquet\"\n",
    "MIIV_DATA_PATH_DYNAMIC = \"/userdata/lucabri/icu-experiments/data/processed/miiv_dynamic.parquet\""
   ]
  },
  {
   "cell_type": "markdown",
   "metadata": {},
   "source": [
    "## Preprocessing"
   ]
  },
  {
   "cell_type": "code",
   "execution_count": 3,
   "metadata": {},
   "outputs": [],
   "source": [
    "def preprocess(DYNAMIC_PATH, STATIC_PATH, impute=True):\n",
    "    # komisch: Malte macht log von bicar aber nicht von bili_dir --> würde ich swappen\n",
    "    columns_to_transform = [\"alp\", 'alt', 'ast', 'bili', 'bili_dir', 'bnd', 'bun', 'ck', 'ckmb',\n",
    "                            'crea', 'crp', 'fgn', 'fio2', 'glu', 'hgb', 'inr_pt', 'lact', 'lymph',\n",
    "                             'methb', 'neut', 'o2sat', 'phos', 'plt', 'pco2', 'ph', 'po2', 'ptt', \n",
    "                             'urine', 'tnt', 'wbc']\n",
    "\n",
    "    df_dynamic = pd.read_parquet(DYNAMIC_PATH)\n",
    "    df_dynamic[columns_to_transform] = df_dynamic[columns_to_transform].apply(np.log)\n",
    "    df_static = pd.read_parquet(STATIC_PATH)\n",
    "\n",
    "    if \"sex\" in df_static.columns:\n",
    "        df_static['sex'] = df_static['sex'].apply(lambda x: 0 if x == 'Male' else 1)\n",
    "\n",
    "    # Rename columns to have a unified column name for IDs and time across datasets\n",
    "    column_renames = {\n",
    "        'icustay_id': 'stay_id', \n",
    "        'patientunitstayid': 'stay_id',\n",
    "        'patientid': 'stay_id',\n",
    "        'charttime': 'time',\n",
    "        'labresultoffset': 'time',\n",
    "        'datetime': 'time'\n",
    "    }\n",
    "    df_dynamic.rename(columns=column_renames, inplace=True)\n",
    "    df_static.rename(columns=column_renames, inplace=True)\n",
    "\n",
    "    # Group and calculate mean for day 1 and day 3\n",
    "    df_dynday1 = df_dynamic[lambda x: x[\"time\"].dt.days == 0].groupby(\"stay_id\").mean()\n",
    "    df_dynday3 = df_dynamic[lambda x: x['time'].dt.days == 2].groupby(\"stay_id\").mean()\n",
    "    \n",
    "    # Merge with static features and fill NaN values\n",
    "    df_day1 = pd.merge(df_dynday1, df_static, on=\"stay_id\", how=\"outer\", validate=\"m:1\").set_index('stay_id')\n",
    "    df_day3 = pd.merge(df_dynday3, df_static, on=\"stay_id\", how=\"outer\", validate=\"m:1\").set_index('stay_id')\n",
    "\n",
    "    # drop the 'time' column since it's not needed\n",
    "    # drop crp and methb since only two values recorded\n",
    "    df_day1.drop(columns=[\"time\"], inplace=True)\n",
    "    df_day3.drop(columns=[\"time\"], inplace=True)\n",
    "\n",
    "    if impute==True:\n",
    "            \n",
    "        # Detect -inf values in DataFrame day1\n",
    "        inf_mask = df_day1.isin([-np.inf])\n",
    "        # Add an indicator column based on whether -inf was replaced\n",
    "        df_day1['inf_replaced'] = inf_mask.any(axis=1).astype(int)\n",
    "        # Replace -inf with NaN\n",
    "        df_day1.replace(-np.inf, np.nan, inplace=True)\n",
    "        \n",
    "        # Perform an inner join on the 'stay_id' column\n",
    "        df = pd.merge(df_day3['hr'], df_day1, on='stay_id', how='inner')\n",
    "        df.rename(columns={'hr_x': 'hr3',\n",
    "                        'hr_y': 'hr1'}, inplace=True)\n",
    "        \n",
    "        df.dropna(subset=[\"hr3\", \"hr1\"], inplace=True)\n",
    "\n",
    "        # Create a new DataFrame to hold the indicators\n",
    "        indicators = df.isna().astype(int)\n",
    "\n",
    "        # Rename the indicator columns to distinguish them\n",
    "        indicators.columns = [str(col) + '_was_nan' for col in df.columns]\n",
    "\n",
    "        # Replace NaN values with the mean of the column\n",
    "        for column in df.columns:\n",
    "            df[column].fillna(df[column].mean(), inplace=True)\n",
    "\n",
    "        # Concatenate the original DataFrame with the indicator DataFrame\n",
    "        df = pd.concat([df, indicators], axis=1)\n",
    "    \n",
    "    else:\n",
    "        # Replace -inf with NaN\n",
    "        df_day1.replace(-np.inf, np.nan, inplace=True)\n",
    "        \n",
    "        # Perform an inner join on the 'stay_id' column\n",
    "        df = pd.merge(df_day3['hr'], df_day1, on='stay_id', how='inner')\n",
    "        df.rename(columns={'hr_x': 'hr3',\n",
    "                        'hr_y': 'hr1'}, inplace=True)\n",
    "        \n",
    "        df.dropna(subset=[\"hr3\", \"hr1\"], inplace=True)\n",
    "    return df"
   ]
  },
  {
   "cell_type": "code",
   "execution_count": 4,
   "metadata": {},
   "outputs": [],
   "source": [
    "df_eicu = preprocess(EICU_DATA_PATH_DYNAMIC, EICU_DATA_PATH_STATIC)"
   ]
  },
  {
   "cell_type": "code",
   "execution_count": 5,
   "metadata": {},
   "outputs": [],
   "source": [
    "df_hirid = preprocess(HIRID_DATA_PATH_DYNAMIC, HIRID_DATA_PATH_STATIC)"
   ]
  },
  {
   "cell_type": "code",
   "execution_count": 6,
   "metadata": {},
   "outputs": [],
   "source": [
    "df_mimic = preprocess(MIMIC_DATA_PATH_DYNAMIC, MIMIC_DATA_PATH_STATIC)"
   ]
  },
  {
   "cell_type": "code",
   "execution_count": 7,
   "metadata": {},
   "outputs": [],
   "source": [
    "df_miiv = preprocess(MIIV_DATA_PATH_DYNAMIC, MIIV_DATA_PATH_STATIC)"
   ]
  },
  {
   "cell_type": "markdown",
   "metadata": {},
   "source": [
    "## Automated EDA"
   ]
  },
  {
   "cell_type": "code",
   "execution_count": null,
   "metadata": {},
   "outputs": [],
   "source": [
    "dataframes = {\n",
    "    'eicu': df_eicu,\n",
    "    'hirid': df_hirid,\n",
    "    'mimic': df_mimic\n",
    "}\n",
    "\n",
    "for name, df in dataframes.items():\n",
    "\n",
    "    cols_to_drop = [col for col in df.columns if '_was_nan' in col]\n",
    "    df = df.drop(columns=cols_to_drop)\n",
    "\n",
    "    # Analyze the dataset\n",
    "    report = sv.analyze(df, target_feat='hr3')\n",
    "\n",
    "    # Display the report as HTML\n",
    "    report.show_html(f'{name}_Report.html')"
   ]
  },
  {
   "cell_type": "markdown",
   "metadata": {},
   "source": [
    "# Predictions"
   ]
  },
  {
   "cell_type": "markdown",
   "metadata": {},
   "source": [
    "## Training - What is the difference between continuous learning and refit?"
   ]
  },
  {
   "cell_type": "code",
   "execution_count": 181,
   "metadata": {},
   "outputs": [],
   "source": [
    "param_grid = {\n",
    "    'n_estimators': [10, 50, 100],\n",
    "    'max_depth': [None, 10, 20, 30],\n",
    "    'max_leaf_nodes': [None, 10, 20],\n",
    "    'min_samples_leaf': [1, 2, 4],\n",
    "    'min_samples_split': [2, 5, 10]\n",
    "}"
   ]
  },
  {
   "cell_type": "code",
   "execution_count": 220,
   "metadata": {},
   "outputs": [
    {
     "name": "stdout",
     "output_type": "stream",
     "text": [
      "Training MSE LGBM: 166.32518032864854\n",
      "Training MSE RF: 152.31950765638805\n",
      "Training MSE OLS: 148.35704250894904\n",
      "Do nothing-mse on Hirid is 278.0011333281888, on Mimic is 548.8081578499456, on Miiv is 243.3661983075155\n",
      "Do nothing-mse on Mimic (without children) is 226.98293268716793\n"
     ]
    }
   ],
   "source": [
    "X_train = df_eicu.drop('hr3', axis=1)\n",
    "y_train = df_eicu['hr3']\n",
    "\n",
    "ols = LR()\n",
    "ols.fit(X_train,y_train)\n",
    "\n",
    "# generate a feature name\n",
    "feature_name = [col for col in X_train.columns]\n",
    "\n",
    "# specify configurations as a dict\n",
    "params_lgbm = {\n",
    "    'boosting_type': 'gbdt',\n",
    "    'objective': 'regression',\n",
    "    'metric': 'l2',\n",
    "    'random_state': 42,\n",
    "    'feature_fraction': 0.9,\n",
    "    'bagging_fraction': 0.8,\n",
    "    'verbose': -1  # Suppresses standard output\n",
    "}\n",
    "params_rf = {\n",
    "    'boosting_type': 'rf',\n",
    "    'objective': 'regression',\n",
    "    'metric': 'l2',\n",
    "    'random_state': 42,\n",
    "    'feature_fraction': 0.9,\n",
    "    'bagging_fraction': 0.8,\n",
    "    'verbose': -1  # Suppresses standard output\n",
    "}\n",
    "lgb_train = lgb.Dataset(data=X_train, label=y_train,free_raw_data=False)\n",
    "lgbm = lgb.train(params_lgbm,\n",
    "                lgb_train,\n",
    "                feature_name=feature_name,\n",
    "                valid_sets=lgb_train,\n",
    "                num_boost_round=10\n",
    "                )\n",
    "rf = lgb.train(params_rf,\n",
    "                lgb_train,\n",
    "                feature_name=feature_name,\n",
    "                valid_sets=lgb_train,\n",
    "                num_boost_round=10,\n",
    "                )\n",
    "lgbm.save_model('lgbm_trained_model.txt')\n",
    "rf.save_model('rf_trained_model.txt')\n",
    "\n",
    "print(\"Training MSE LGBM:\", mean_squared_error(y_train, lgbm.predict(X_train)))\n",
    "print(\"Training MSE RF:\", mean_squared_error(y_train, rf.predict(X_train)))\n",
    "print(\"Training MSE OLS:\", mean_squared_error(y_train, ols.predict(X_train)))\n",
    "\n",
    "X_test_hirid, X_test_mimic, X_test_miiv = df_hirid.drop('hr3', axis=1), df_mimic.drop('hr3', axis=1), df_miiv.drop('hr3', axis=1)\n",
    "y_test_hirid, y_test_mimic, y_test_miiv = df_hirid['hr3'], df_mimic['hr3'], df_miiv['hr3']\n",
    "# Do nothing prediction\n",
    "dummy_mse_hirid = mean_squared_error(y_test_hirid, np.full_like(y_test_hirid, y_train.mean()))\n",
    "dummy_mse_mimic = mean_squared_error(y_test_mimic, np.full_like(y_test_mimic, y_train.mean()))\n",
    "dummy_mse_miiv = mean_squared_error(y_test_miiv, np.full_like(y_test_miiv, y_train.mean()))\n",
    "print(f'Do nothing-mse on Hirid is {dummy_mse_hirid}, on Mimic is {dummy_mse_mimic}, on Miiv is {dummy_mse_miiv}')\n",
    "\n",
    "# Hypothesis: Higher MSE on Mimic is caused by children\n",
    "X_test_mimic = df_mimic[df_mimic[\"age\"]>18].drop('hr3', axis=1)\n",
    "y_test_mimic = df_mimic[df_mimic[\"age\"]>18]['hr3']\n",
    "dummy_mse_mimic = mean_squared_error(y_test_mimic, np.full_like(y_test_mimic, y_train.mean()))\n",
    "print(f'Do nothing-mse on Mimic (without children) is {dummy_mse_mimic}')\n"
   ]
  },
  {
   "cell_type": "code",
   "execution_count": null,
   "metadata": {},
   "outputs": [],
   "source": [
    "\"\"\"\"\"\"\"\"\"\"\n",
    "Do only if access to Euler otherwise pc goes in brrrr state\n",
    "#grid_search = GridSearchCV(rf, param_grid, cv=5, scoring='neg_mean_squared_error', n_jobs=-1)\n",
    "#grid_search.fit(X_train, y_train)\n",
    "#best_training_model = grid_search.best_estimator_\n",
    "#print(\"Finished grid search and selected best estimator \\n\")\n",
    "\"\"\"\"\"\"\"\"\"\"\""
   ]
  },
  {
   "cell_type": "code",
   "execution_count": 207,
   "metadata": {},
   "outputs": [],
   "source": [
    "test_dataframes = {\n",
    "    'hirid': df_hirid,\n",
    "    'mimic': df_mimic,\n",
    "    'miiv': df_miiv\n",
    "    }\n",
    "mse_values = {name: {'lgbm': [], 'rf': [], 'ols': []} for name in test_dataframes}\n",
    "n_fine_tune_range = [25, 50, 100, 200, 400, 800, 1600]\n",
    "for name, df in test_dataframes.items():\n",
    "    X_test = df.drop('hr3', axis=1)\n",
    "    y_test = df['hr3']\n",
    "\n",
    "    mse_values[name]['lgbm'].append(mean_squared_error(y_test,lgbm.predict(X_test,num_iteration=lgbm.best_iteration))) # Base line prediction - without fine tuning\n",
    "    mse_values[name]['rf'].append(mean_squared_error(y_test,rf.predict(X_test,num_iteration=rf.best_iteration))) # Base line prediction - without fine tuning\n",
    "    mse_values[name]['ols'].append(mean_squared_error(y_test,ols.predict(X_test)))\n",
    "    \n",
    "    for n_fine_tune in n_fine_tune_range:\n",
    "        X_fine_tune, X_evaluate, y_fine_tune, y_evaluate = train_test_split(X_test, y_test, train_size=n_fine_tune, random_state=42)\n",
    "        #print(X_fine_tune.shape, X_evaluate.shape)\n",
    "\n",
    "        lgbm = lgb.Booster(model_file='lgbm_trained_model.txt')\n",
    "        refit_lgbm = lgbm.refit(X_fine_tune,y_fine_tune,validate_features=True)\n",
    "        mse_values[name]['lgbm'].append(mean_squared_error(y_evaluate, refit_lgbm.predict(X_evaluate,num_iteration=lgbm.best_iteration)))\n",
    "\n",
    "        rf = lgb.Booster(model_file='rf_trained_model.txt')\n",
    "        refit_rf = rf.refit(X_fine_tune,y_fine_tune,validate_features=True)\n",
    "        mse_values[name]['rf'].append(mean_squared_error(y_evaluate, refit_rf.predict(X_evaluate,num_iteration=rf.best_iteration)))\n",
    "        \n",
    "        mse_values[name]['ols'].append(mean_squared_error(y_evaluate, ols.predict(X_evaluate)))"
   ]
  },
  {
   "cell_type": "code",
   "execution_count": 221,
   "metadata": {},
   "outputs": [
    {
     "data": {
      "text/plain": [
       "<Axes: >"
      ]
     },
     "execution_count": 221,
     "metadata": {},
     "output_type": "execute_result"
    },
    {
     "data": {
      "image/png": "[encoded data removed]",
      "text/plain": [
       "<Figure size 640x480 with 1 Axes>"
      ]
     },
     "metadata": {},
     "output_type": "display_data"
    },
    {
     "data": {
      "image/png": "[encoded data removed]",
      "text/plain": [
       "<Figure size 640x480 with 1 Axes>"
      ]
     },
     "metadata": {},
     "output_type": "display_data"
    },
    {
     "data": {
      "image/png": "[encoded data removed]",
      "text/plain": [
       "<Figure size 640x480 with 1 Axes>"
      ]
     },
     "metadata": {},
     "output_type": "display_data"
    }
   ],
   "source": [
    "mse_hirid_df = pd.DataFrame(mse_values['hirid'])\n",
    "mse_hirid_df.title='EICU on HIRID'\n",
    "mse_hirid_df.index = [0, 25, 50, 100, 200, 400, 800, 1600]\n",
    "mse_mimic_df = pd.DataFrame(mse_values['mimic'])\n",
    "mse_mimic_df.title='EICU on MIMIC'\n",
    "mse_mimic_df.index = [0, 25, 50, 100, 200, 400, 800, 1600]\n",
    "mse_miiv_df = pd.DataFrame(mse_values['miiv'])\n",
    "mse_miiv_df.title='EICU on MIIV'\n",
    "mse_miiv_df.index = [0, 25, 50, 100, 200, 400, 800, 1600]\n",
    "mse_hirid_df.plot()\n",
    "mse_mimic_df.plot()\n",
    "mse_miiv_df.plot()"
   ]
  },
  {
   "cell_type": "code",
   "execution_count": 218,
   "metadata": {},
   "outputs": [
    {
     "data": {
      "text/plain": [
       "0       166.386174\n",
       "25      166.561511\n",
       "50      166.839867\n",
       "100     166.693752\n",
       "200     166.566098\n",
       "400     167.035664\n",
       "800     168.330407\n",
       "1600    170.006601\n",
       "Name: ols, dtype: float64"
      ]
     },
     "execution_count": 218,
     "metadata": {},
     "output_type": "execute_result"
    }
   ],
   "source": [
    "mse_hirid_df[\"ols\"]"
   ]
  },
  {
   "cell_type": "markdown",
   "metadata": {},
   "source": [
    "### Anchor Regression + Residual RF  --> location als anchor"
   ]
  },
  {
   "cell_type": "code",
   "execution_count": 210,
   "metadata": {},
   "outputs": [
    {
     "name": "stderr",
     "output_type": "stream",
     "text": [
      "/userdata/miniforge-pypy3/envs/dataICU/lib/python3.12/site-packages/lightgbm/basic.py:300: UserWarning: Converting column-vector to 1d array\n",
      "  _log_warning('Converting column-vector to 1d array')\n"
     ]
    },
    {
     "name": "stdout",
     "output_type": "stream",
     "text": [
      "146.62963590871328\n"
     ]
    }
   ],
   "source": [
    "gamma=2\n",
    "# Centering\n",
    "X_centered = X_train.drop(columns=['age', 'height', 'sex', 'weight']) - X_train.drop(columns=['age', 'height', 'sex', 'weight']).mean()\n",
    "Y_centered = y_train - y_train.mean()\n",
    "\n",
    "# Convert A to a NumPy array if it's a DataFrame for matrix operations\n",
    "A_matrix = X_train[['age', 'sex', 'weight', 'height']].values   \n",
    "# Fit a linear regression model for each independent variable in X_centered using A_matrix\n",
    "residuals_X = []\n",
    "fitted_values_X = []\n",
    "residuals_y = []\n",
    "fitted_values_y = []\n",
    "for column in X_centered.columns:\n",
    "    model = LR()\n",
    "    model.fit(A_matrix, X_centered[column])\n",
    "    residuals_X.append(X_centered[column] - model.predict(A_matrix))\n",
    "    fitted_values_X.append(model.predict(A_matrix))\n",
    "\n",
    "model = LR()\n",
    "model.fit(A_matrix, Y_centered)\n",
    "residuals_y.append(Y_centered - model.predict(A_matrix))\n",
    "fitted_values_y.append(model.predict(A_matrix))\n",
    "\n",
    "# Convert lists of residuals and fitted values to NumPy arrays\n",
    "residuals_X_matrix = np.column_stack(residuals_X)\n",
    "fitted_values_X_matrix = np.column_stack(fitted_values_X)\n",
    "residuals_y = np.column_stack(residuals_y)\n",
    "fitted_values_y = np.column_stack(fitted_values_y)\n",
    "\n",
    "# Compute anchor_data by adding residuals to the scaled fitted values\n",
    "anchor_data = residuals_X_matrix + np.sqrt(gamma) * fitted_values_X_matrix\n",
    "anchor_data_target = residuals_y + np.sqrt(gamma) * fitted_values_y\n",
    "\n",
    "anchor_reg = LR()\n",
    "anchor_reg.fit(anchor_data, anchor_data_target)\n",
    "pred_anchor = anchor_reg.predict(anchor_data)\n",
    "\n",
    "res_anchor = anchor_data_target - pred_anchor\n",
    "lgb_train = lgb.Dataset(data=X_centered, label=res_anchor,free_raw_data=False)\n",
    "anchor_rf = lgb.train(params_rf,\n",
    "                lgb_train,\n",
    "                valid_sets=lgb_train,\n",
    "                num_boost_round=10,\n",
    "                )\n",
    "pred_rf = anchor_rf.predict(X_centered).reshape(-1,1)\n",
    "pred_anchor_rf = pred_anchor + pred_rf\n",
    "print(mean_squared_error(Y_centered.values.reshape(-1, 1),pred_anchor_rf))"
   ]
  }
 ],
 "metadata": {
  "kernelspec": {
   "display_name": "dataICU",
   "language": "python",
   "name": "python3"
  },
  "language_info": {
   "codemirror_mode": {
    "name": "ipython",
    "version": 3
   },
   "file_extension": ".py",
   "mimetype": "text/x-python",
   "name": "python",
   "nbconvert_exporter": "python",
   "pygments_lexer": "ipython3",
   "version": "3.12.0"
  }
 },
 "nbformat": 4,
 "nbformat_minor": 2
}
