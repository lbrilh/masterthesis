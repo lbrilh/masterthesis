{
 "cells": [
  {
   "cell_type": "markdown",
   "metadata": {},
   "source": [
    "# Import necessary libraries"
   ]
  },
  {
   "cell_type": "code",
   "execution_count": 1,
   "metadata": {},
   "outputs": [
    {
     "name": "stderr",
     "output_type": "stream",
     "text": [
      "/userdata/miniforge-pypy3/envs/dataICU/lib/python3.12/site-packages/tqdm/auto.py:21: TqdmWarning: IProgress not found. Please update jupyter and ipywidgets. See https://ipywidgets.readthedocs.io/en/stable/user_install.html\n",
      "  from .autonotebook import tqdm as notebook_tqdm\n"
     ]
    }
   ],
   "source": [
    "from sklearn.linear_model import LinearRegression as LR\n",
    "from sklearn.model_selection import train_test_split, GridSearchCV, cross_val_score\n",
    "from sklearn.metrics import mean_squared_error\n",
    "from sklearn.base import clone\n",
    "import pandas as pd\n",
    "import numpy as np\n",
    "import matplotlib.pyplot as plt\n",
    "import seaborn as sns\n",
    "import sweetviz as sv\n",
    "import copy\n",
    "import lightgbm as lgb\n",
    "import os\n",
    "import sys"
   ]
  },
  {
   "cell_type": "markdown",
   "metadata": {},
   "source": [
    "# Load and preprocess data set"
   ]
  },
  {
   "cell_type": "code",
   "execution_count": 2,
   "metadata": {},
   "outputs": [],
   "source": [
    "EICU_DATA_PATH_DYNAMIC = \"/userdata/lucabri/icu-experiments/data/processed/eicu_dynamic.parquet\"\n",
    "EICU_DATA_PATH_STATIC = \"/userdata/lucabri/icu-experiments/data/processed/eicu_static.parquet\"\n",
    "HIRID_DATA_PATH_DYNAMIC = \"/userdata/lucabri/icu-experiments/data/processed/hirid_dynamic.parquet\"\n",
    "HIRID_DATA_PATH_STATIC = \"/userdata/lucabri/icu-experiments/data/processed/hirid_static.parquet\"\n",
    "MIMIC_DATA_PATH_DYNAMIC = \"/userdata/lucabri/icu-experiments/data/processed/mimic_dynamic.parquet\"\n",
    "MIMIC_DATA_PATH_STATIC = \"/userdata/lucabri/icu-experiments/data/processed/mimic_static.parquet\"\n",
    "MIIV_DATA_PATH_STATIC = \"/userdata/lucabri/icu-experiments/data/processed/miiv_static.parquet\"\n",
    "MIIV_DATA_PATH_DYNAMIC = \"/userdata/lucabri/icu-experiments/data/processed/miiv_dynamic.parquet\""
   ]
  },
  {
   "cell_type": "markdown",
   "metadata": {},
   "source": [
    "## Preprocessing"
   ]
  },
  {
   "cell_type": "code",
   "execution_count": 3,
   "metadata": {},
   "outputs": [],
   "source": [
    "def preprocess(DYNAMIC_PATH, STATIC_PATH, impute=True):\n",
    "    # komisch: Malte macht log von bicar aber nicht von bili_dir --> würde ich swappen\n",
    "    columns_to_transform = [\"alp\", 'alt', 'ast', 'bili', 'bili_dir', 'bnd', 'bun', 'ck', 'ckmb',\n",
    "                            'crea', 'crp', 'fgn', 'fio2', 'glu', 'hgb', 'inr_pt', 'lact', 'lymph',\n",
    "                             'methb', 'neut', 'o2sat', 'phos', 'plt', 'pco2', 'ph', 'po2', 'ptt', \n",
    "                             'urine', 'tnt', 'wbc']\n",
    "\n",
    "    df_dynamic = pd.read_parquet(DYNAMIC_PATH)\n",
    "    df_dynamic[columns_to_transform] = df_dynamic[columns_to_transform].apply(np.log)\n",
    "    df_static = pd.read_parquet(STATIC_PATH)\n",
    "\n",
    "    if \"sex\" in df_static.columns:\n",
    "        df_static['sex'] = df_static['sex'].apply(lambda x: 0 if x == 'Male' else 1)\n",
    "\n",
    "    # Rename columns to have a unified column name for IDs and time across datasets\n",
    "    column_renames = {\n",
    "        'icustay_id': 'stay_id', \n",
    "        'patientunitstayid': 'stay_id',\n",
    "        'patientid': 'stay_id',\n",
    "        'charttime': 'time',\n",
    "        'labresultoffset': 'time',\n",
    "        'datetime': 'time'\n",
    "    }\n",
    "    df_dynamic.rename(columns=column_renames, inplace=True)\n",
    "    df_static.rename(columns=column_renames, inplace=True)\n",
    "\n",
    "    # Group and calculate mean for day 1 and day 3\n",
    "    df_dynday1 = df_dynamic[lambda x: x[\"time\"].dt.days == 0].groupby(\"stay_id\").mean()\n",
    "    df_dynday3 = df_dynamic[lambda x: x['time'].dt.days == 2].groupby(\"stay_id\").mean()\n",
    "    \n",
    "    # Merge with static features and fill NaN values\n",
    "    df_day1 = pd.merge(df_dynday1, df_static, on=\"stay_id\", how=\"outer\", validate=\"m:1\").set_index('stay_id')\n",
    "    df_day3 = pd.merge(df_dynday3, df_static, on=\"stay_id\", how=\"outer\", validate=\"m:1\").set_index('stay_id')\n",
    "\n",
    "    # drop the 'time' column since it's not needed\n",
    "    # drop crp and methb since only two values recorded\n",
    "    df_day1.drop(columns=[\"time\"], inplace=True)\n",
    "    df_day3.drop(columns=[\"time\"], inplace=True)\n",
    "\n",
    "    if impute==True:\n",
    "            \n",
    "        # Detect -inf values in DataFrame day1\n",
    "        inf_mask = df_day1.isin([-np.inf])\n",
    "        # Add an indicator column based on whether -inf was replaced\n",
    "        df_day1['inf_replaced'] = inf_mask.any(axis=1).astype(int)\n",
    "        # Replace -inf with NaN\n",
    "        df_day1.replace(-np.inf, np.nan, inplace=True)\n",
    "        \n",
    "        # Perform an inner join on the 'stay_id' column\n",
    "        df = pd.merge(df_day3['hr'], df_day1, on='stay_id', how='inner')\n",
    "        df.rename(columns={'hr_x': 'hr3',\n",
    "                        'hr_y': 'hr1'}, inplace=True)\n",
    "        \n",
    "        df.dropna(subset=[\"hr3\", \"hr1\"], inplace=True)\n",
    "\n",
    "        # Create a new DataFrame to hold the indicators\n",
    "        indicators = df.isna().astype(int)\n",
    "\n",
    "        # Rename the indicator columns to distinguish them\n",
    "        indicators.columns = [str(col) + '_was_nan' for col in df.columns]\n",
    "\n",
    "        # Replace NaN values with the mean of the column\n",
    "        for column in df.columns:\n",
    "            df[column].fillna(df[column].mean(), inplace=True)\n",
    "\n",
    "        # Concatenate the original DataFrame with the indicator DataFrame\n",
    "        df = pd.concat([df, indicators], axis=1)\n",
    "    \n",
    "    else:\n",
    "        # Replace -inf with NaN\n",
    "        df_day1.replace(-np.inf, np.nan, inplace=True)\n",
    "        \n",
    "        # Perform an inner join on the 'stay_id' column\n",
    "        df = pd.merge(df_day3['hr'], df_day1, on='stay_id', how='inner')\n",
    "        df.rename(columns={'hr_x': 'hr3',\n",
    "                        'hr_y': 'hr1'}, inplace=True)\n",
    "        \n",
    "        df.dropna(subset=[\"hr3\", \"hr1\"], inplace=True)\n",
    "    return df"
   ]
  },
  {
   "cell_type": "code",
   "execution_count": 4,
   "metadata": {},
   "outputs": [],
   "source": [
    "df_eicu = preprocess(EICU_DATA_PATH_DYNAMIC, EICU_DATA_PATH_STATIC)"
   ]
  },
  {
   "cell_type": "code",
   "execution_count": 5,
   "metadata": {},
   "outputs": [],
   "source": [
    "df_hirid = preprocess(HIRID_DATA_PATH_DYNAMIC, HIRID_DATA_PATH_STATIC)"
   ]
  },
  {
   "cell_type": "code",
   "execution_count": 6,
   "metadata": {},
   "outputs": [],
   "source": [
    "df_mimic = preprocess(MIMIC_DATA_PATH_DYNAMIC, MIMIC_DATA_PATH_STATIC)"
   ]
  },
  {
   "cell_type": "code",
   "execution_count": 7,
   "metadata": {},
   "outputs": [],
   "source": [
    "df_miiv = preprocess(MIIV_DATA_PATH_DYNAMIC, MIIV_DATA_PATH_STATIC)"
   ]
  },
  {
   "cell_type": "code",
   "execution_count": 28,
   "metadata": {},
   "outputs": [
    {
     "name": "stdout",
     "output_type": "stream",
     "text": [
      "hr3\n",
      "alb\n",
      "alp\n",
      "alt\n",
      "ast\n",
      "be\n",
      "bicar\n",
      "bili\n",
      "bili_dir\n",
      "bnd\n",
      "bun\n",
      "ca\n",
      "cai\n",
      "ck\n",
      "ckmb\n",
      "cl\n",
      "crea\n",
      "crp\n",
      "dbp\n",
      "fgn\n",
      "fio2\n",
      "glu\n",
      "hgb\n",
      "hr1\n",
      "inr_pt\n",
      "k\n",
      "lact\n",
      "lymph\n",
      "map\n",
      "mch\n",
      "mchc\n",
      "mcv\n",
      "methb\n",
      "mg\n",
      "na\n",
      "neut\n",
      "o2sat\n",
      "pco2\n",
      "ph\n",
      "phos\n",
      "plt\n",
      "po2\n",
      "ptt\n",
      "resp\n",
      "sbp\n",
      "temp\n",
      "tnt\n",
      "urine\n",
      "wbc\n",
      "age\n",
      "sex\n",
      "height\n",
      "weight\n",
      "inf_replaced\n",
      "hr3_was_nan\n",
      "alb_was_nan\n",
      "alp_was_nan\n",
      "alt_was_nan\n",
      "ast_was_nan\n",
      "be_was_nan\n",
      "bicar_was_nan\n",
      "bili_was_nan\n",
      "bili_dir_was_nan\n",
      "bnd_was_nan\n",
      "bun_was_nan\n",
      "ca_was_nan\n",
      "cai_was_nan\n",
      "ck_was_nan\n",
      "ckmb_was_nan\n",
      "cl_was_nan\n",
      "crea_was_nan\n",
      "crp_was_nan\n",
      "dbp_was_nan\n",
      "fgn_was_nan\n",
      "fio2_was_nan\n",
      "glu_was_nan\n",
      "hgb_was_nan\n",
      "hr1_was_nan\n",
      "inr_pt_was_nan\n",
      "k_was_nan\n",
      "lact_was_nan\n",
      "lymph_was_nan\n",
      "map_was_nan\n",
      "mch_was_nan\n",
      "mchc_was_nan\n",
      "mcv_was_nan\n",
      "methb_was_nan\n",
      "mg_was_nan\n",
      "na_was_nan\n",
      "neut_was_nan\n",
      "o2sat_was_nan\n",
      "pco2_was_nan\n",
      "ph_was_nan\n",
      "phos_was_nan\n",
      "plt_was_nan\n",
      "po2_was_nan\n",
      "ptt_was_nan\n",
      "resp_was_nan\n",
      "sbp_was_nan\n",
      "temp_was_nan\n",
      "tnt_was_nan\n",
      "urine_was_nan\n",
      "wbc_was_nan\n",
      "age_was_nan\n",
      "sex_was_nan\n",
      "height_was_nan\n",
      "weight_was_nan\n",
      "inf_replaced_was_nan\n"
     ]
    }
   ],
   "source": [
    "for col in df_eicu.columns:\n",
    "    print(col)"
   ]
  },
  {
   "cell_type": "markdown",
   "metadata": {},
   "source": [
    "## Automated EDA"
   ]
  },
  {
   "cell_type": "code",
   "execution_count": null,
   "metadata": {},
   "outputs": [],
   "source": [
    "dataframes = {\n",
    "    'eicu': df_eicu,\n",
    "    'hirid': df_hirid,\n",
    "    'mimic': df_mimic\n",
    "}\n",
    "\n",
    "for name, df in dataframes.items():\n",
    "\n",
    "    cols_to_drop = [col for col in df.columns if '_was_nan' in col]\n",
    "    df = df.drop(columns=cols_to_drop)\n",
    "\n",
    "    # Analyze the dataset\n",
    "    report = sv.analyze(df, target_feat='hr3')\n",
    "\n",
    "    # Display the report as HTML\n",
    "    report.show_html(f'{name}_Report.html')"
   ]
  },
  {
   "cell_type": "markdown",
   "metadata": {},
   "source": [
    "# Predictions"
   ]
  },
  {
   "cell_type": "markdown",
   "metadata": {},
   "source": [
    "## Plotting"
   ]
  },
  {
   "cell_type": "code",
   "execution_count": 8,
   "metadata": {},
   "outputs": [],
   "source": [
    "def plot_mse_vs_tuning_points(n_test_range, mse_values_rf, mse_values_lgbm, name):\n",
    "    plt.figure(figsize=(10, 6))\n",
    "    plt.plot(n_test_range, mse_values_rf, '-o', label='Random Forest', linewidth=2, color='blue')\n",
    "    plt.plot(n_test_range, mse_values_lgbm, '-o', label='LightGBM', linewidth=2, color='green')\n",
    "    plt.title(f\"MSE vs Number of tuning Data Points from {name}\")\n",
    "    plt.xlabel(\"Number of tuning Points\")\n",
    "    plt.ylabel(\"MSE\")\n",
    "    plt.legend()\n",
    "    plt.grid(True)\n",
    "    filename = f'eicuTO{name}.png'\n",
    "    if os.path.exists(filename):\n",
    "        os.remove(filename)\n",
    "    plt.savefig(filename)\n",
    "    plt.show()"
   ]
  },
  {
   "cell_type": "markdown",
   "metadata": {},
   "source": [
    "## Training - What is the difference between continuous learning and refit?"
   ]
  },
  {
   "cell_type": "code",
   "execution_count": 9,
   "metadata": {},
   "outputs": [],
   "source": [
    "param_grid = {\n",
    "    'n_estimators': [10, 50, 100],\n",
    "    'max_depth': [None, 10, 20, 30],\n",
    "    'max_leaf_nodes': [None, 10, 20],\n",
    "    'min_samples_leaf': [1, 2, 4],\n",
    "    'min_samples_split': [2, 5, 10]\n",
    "}"
   ]
  },
  {
   "cell_type": "code",
   "execution_count": 10,
   "metadata": {},
   "outputs": [],
   "source": [
    "X_train = df_eicu.drop('hr3', axis=1)\n",
    "y_train = df_eicu['hr3']"
   ]
  },
  {
   "cell_type": "code",
   "execution_count": 11,
   "metadata": {},
   "outputs": [
    {
     "data": {
      "text/html": [
       "<style>#sk-container-id-1 {color: black;}#sk-container-id-1 pre{padding: 0;}#sk-container-id-1 div.sk-toggleable {background-color: white;}#sk-container-id-1 label.sk-toggleable__label {cursor: pointer;display: block;width: 100%;margin-bottom: 0;padding: 0.3em;box-sizing: border-box;text-align: center;}#sk-container-id-1 label.sk-toggleable__label-arrow:before {content: \"▸\";float: left;margin-right: 0.25em;color: #696969;}#sk-container-id-1 label.sk-toggleable__label-arrow:hover:before {color: black;}#sk-container-id-1 div.sk-estimator:hover label.sk-toggleable__label-arrow:before {color: black;}#sk-container-id-1 div.sk-toggleable__content {max-height: 0;max-width: 0;overflow: hidden;text-align: left;background-color: #f0f8ff;}#sk-container-id-1 div.sk-toggleable__content pre {margin: 0.2em;color: black;border-radius: 0.25em;background-color: #f0f8ff;}#sk-container-id-1 input.sk-toggleable__control:checked~div.sk-toggleable__content {max-height: 200px;max-width: 100%;overflow: auto;}#sk-container-id-1 input.sk-toggleable__control:checked~label.sk-toggleable__label-arrow:before {content: \"▾\";}#sk-container-id-1 div.sk-estimator input.sk-toggleable__control:checked~label.sk-toggleable__label {background-color: #d4ebff;}#sk-container-id-1 div.sk-label input.sk-toggleable__control:checked~label.sk-toggleable__label {background-color: #d4ebff;}#sk-container-id-1 input.sk-hidden--visually {border: 0;clip: rect(1px 1px 1px 1px);clip: rect(1px, 1px, 1px, 1px);height: 1px;margin: -1px;overflow: hidden;padding: 0;position: absolute;width: 1px;}#sk-container-id-1 div.sk-estimator {font-family: monospace;background-color: #f0f8ff;border: 1px dotted black;border-radius: 0.25em;box-sizing: border-box;margin-bottom: 0.5em;}#sk-container-id-1 div.sk-estimator:hover {background-color: #d4ebff;}#sk-container-id-1 div.sk-parallel-item::after {content: \"\";width: 100%;border-bottom: 1px solid gray;flex-grow: 1;}#sk-container-id-1 div.sk-label:hover label.sk-toggleable__label {background-color: #d4ebff;}#sk-container-id-1 div.sk-serial::before {content: \"\";position: absolute;border-left: 1px solid gray;box-sizing: border-box;top: 0;bottom: 0;left: 50%;z-index: 0;}#sk-container-id-1 div.sk-serial {display: flex;flex-direction: column;align-items: center;background-color: white;padding-right: 0.2em;padding-left: 0.2em;position: relative;}#sk-container-id-1 div.sk-item {position: relative;z-index: 1;}#sk-container-id-1 div.sk-parallel {display: flex;align-items: stretch;justify-content: center;background-color: white;position: relative;}#sk-container-id-1 div.sk-item::before, #sk-container-id-1 div.sk-parallel-item::before {content: \"\";position: absolute;border-left: 1px solid gray;box-sizing: border-box;top: 0;bottom: 0;left: 50%;z-index: -1;}#sk-container-id-1 div.sk-parallel-item {display: flex;flex-direction: column;z-index: 1;position: relative;background-color: white;}#sk-container-id-1 div.sk-parallel-item:first-child::after {align-self: flex-end;width: 50%;}#sk-container-id-1 div.sk-parallel-item:last-child::after {align-self: flex-start;width: 50%;}#sk-container-id-1 div.sk-parallel-item:only-child::after {width: 0;}#sk-container-id-1 div.sk-dashed-wrapped {border: 1px dashed gray;margin: 0 0.4em 0.5em 0.4em;box-sizing: border-box;padding-bottom: 0.4em;background-color: white;}#sk-container-id-1 div.sk-label label {font-family: monospace;font-weight: bold;display: inline-block;line-height: 1.2em;}#sk-container-id-1 div.sk-label-container {text-align: center;}#sk-container-id-1 div.sk-container {/* jupyter's `normalize.less` sets `[hidden] { display: none; }` but bootstrap.min.css set `[hidden] { display: none !important; }` so we also need the `!important` here to be able to override the default hidden behavior on the sphinx rendered scikit-learn.org. See: https://github.com/scikit-learn/scikit-learn/issues/21755 */display: inline-block !important;position: relative;}#sk-container-id-1 div.sk-text-repr-fallback {display: none;}</style><div id=\"sk-container-id-1\" class=\"sk-top-container\"><div class=\"sk-text-repr-fallback\"><pre>LinearRegression()</pre><b>In a Jupyter environment, please rerun this cell to show the HTML representation or trust the notebook. <br />On GitHub, the HTML representation is unable to render, please try loading this page with nbviewer.org.</b></div><div class=\"sk-container\" hidden><div class=\"sk-item\"><div class=\"sk-estimator sk-toggleable\"><input class=\"sk-toggleable__control sk-hidden--visually\" id=\"sk-estimator-id-1\" type=\"checkbox\" checked><label for=\"sk-estimator-id-1\" class=\"sk-toggleable__label sk-toggleable__label-arrow\">LinearRegression</label><div class=\"sk-toggleable__content\"><pre>LinearRegression()</pre></div></div></div></div></div>"
      ],
      "text/plain": [
       "LinearRegression()"
      ]
     },
     "execution_count": 11,
     "metadata": {},
     "output_type": "execute_result"
    }
   ],
   "source": [
    "ols = LR()\n",
    "ols.fit(X_train,y_train)\n"
   ]
  },
  {
   "cell_type": "code",
   "execution_count": 12,
   "metadata": {},
   "outputs": [],
   "source": [
    "# generate a feature name\n",
    "feature_name = [col for col in X_train.columns]"
   ]
  },
  {
   "cell_type": "code",
   "execution_count": 13,
   "metadata": {},
   "outputs": [],
   "source": [
    "# specify configurations as a dict\n",
    "params_lgbm = {\n",
    "    'boosting_type': 'gbdt',\n",
    "    'objective': 'regression',\n",
    "    'metric': 'l2',\n",
    "    'random_state': 42,\n",
    "    'feature_fraction': 0.9,\n",
    "    'bagging_fraction': 0.8,\n",
    "    'verbose': -1  # Suppresses standard output\n",
    "}\n",
    "params_rf = {\n",
    "    'boosting_type': 'rf',\n",
    "    'objective': 'regression',\n",
    "    'metric': 'l2',\n",
    "    'random_state': 42,\n",
    "    'feature_fraction': 0.9,\n",
    "    'bagging_fraction': 0.8,\n",
    "    'verbose': -1  # Suppresses standard output\n",
    "}"
   ]
  },
  {
   "cell_type": "code",
   "execution_count": 14,
   "metadata": {},
   "outputs": [],
   "source": [
    "lgb_train = lgb.Dataset(data=X_train, label=y_train,free_raw_data=False)"
   ]
  },
  {
   "cell_type": "code",
   "execution_count": 15,
   "metadata": {},
   "outputs": [],
   "source": [
    "lgbm = lgb.train(params_lgbm,\n",
    "                lgb_train,\n",
    "                feature_name=feature_name,\n",
    "                valid_sets=lgb_train,\n",
    "                num_boost_round=10\n",
    "                )"
   ]
  },
  {
   "cell_type": "code",
   "execution_count": 16,
   "metadata": {},
   "outputs": [],
   "source": [
    "rf = lgb.train(params_rf,\n",
    "                lgb_train,\n",
    "                feature_name=feature_name,\n",
    "                valid_sets=lgb_train,\n",
    "                num_boost_round=10,\n",
    "                )"
   ]
  },
  {
   "cell_type": "code",
   "execution_count": 17,
   "metadata": {},
   "outputs": [
    {
     "data": {
      "text/plain": [
       "<lightgbm.basic.Booster at 0x7f5be3f6bf20>"
      ]
     },
     "execution_count": 17,
     "metadata": {},
     "output_type": "execute_result"
    }
   ],
   "source": [
    "lgbm.save_model('lgbm_trained_model.txt')\n",
    "rf.save_model('rf_trained_model.txt')"
   ]
  },
  {
   "cell_type": "code",
   "execution_count": 139,
   "metadata": {},
   "outputs": [
    {
     "name": "stdout",
     "output_type": "stream",
     "text": [
      "Training MSE LGBM: 12.89671199680944\n",
      "Training MSE RF: 12.341778950231934\n",
      "Training MSE OLS: 12.180190577694137\n"
     ]
    }
   ],
   "source": [
    "# Make predictions on the training data\n",
    "y_pred_lgbm = lgbm.predict(X_train)\n",
    "y_pred_rf = rf.predict(X_train)\n",
    "y_pred_ols = ols.predict(X_train)\n",
    "\n",
    "\n",
    "# Calculate Mean Squared Error (MSE) manually\n",
    "training_mse_lgbm = np.mean((y_train - y_pred_lgbm) ** 2)\n",
    "training_mse_rf = np.mean((y_train - y_pred_rf) ** 2)\n",
    "training_mse_ols = np.mean((y_train - y_pred_ols) ** 2)\n",
    "\n",
    "print(\"Training MSE LGBM:\", training_mse_lgbm**0.5)\n",
    "print(\"Training MSE RF:\", training_mse_rf**0.5)\n",
    "print(\"Training MSE OLS:\", training_mse_ols**0.5)\n"
   ]
  },
  {
   "cell_type": "code",
   "execution_count": 19,
   "metadata": {},
   "outputs": [
    {
     "name": "stdout",
     "output_type": "stream",
     "text": [
      "Do nothing-mse on Hirid is 278.0011333281888, on Mimic is 548.8081578499456, on Miiv is 243.3661983075155 \n",
      "\n"
     ]
    }
   ],
   "source": [
    "X_test_hirid, X_test_mimic, X_test_miiv = df_hirid.drop('hr3', axis=1), df_mimic.drop('hr3', axis=1), df_miiv.drop('hr3', axis=1)\n",
    "y_test_hirid, y_test_mimic, y_test_miiv = df_hirid['hr3'], df_mimic['hr3'], df_miiv['hr3']\n",
    "# Do nothing prediction\n",
    "dummy_mse_hirid = mean_squared_error(y_test_hirid, np.full_like(y_test_hirid, y_train.mean()))\n",
    "dummy_mse_mimic = mean_squared_error(y_test_mimic, np.full_like(y_test_mimic, y_train.mean()))\n",
    "dummy_mse_miiv = mean_squared_error(y_test_miiv, np.full_like(y_test_miiv, y_train.mean()))\n",
    "print(f'Do nothing-mse on Hirid is {dummy_mse_hirid}, on Mimic is {dummy_mse_mimic}, on Miiv is {dummy_mse_miiv} \\n')"
   ]
  },
  {
   "cell_type": "markdown",
   "metadata": {},
   "source": [
    "### Hypothesis: Bad performance of Eicu on Mimic is caused by children"
   ]
  },
  {
   "cell_type": "code",
   "execution_count": 20,
   "metadata": {},
   "outputs": [
    {
     "name": "stdout",
     "output_type": "stream",
     "text": [
      "Do nothing-mse on Mimic (without children) is 226.98293268716793 \n",
      "\n"
     ]
    }
   ],
   "source": [
    "X_test_mimic = df_mimic[df_mimic[\"age\"]>18].drop('hr3', axis=1)\n",
    "y_test_mimic = df_mimic[df_mimic[\"age\"]>18]['hr3']\n",
    "# Do nothing prediction\n",
    "dummy_mse_mimic = mean_squared_error(y_test_mimic, np.full_like(y_test_mimic, y_train.mean()))\n",
    "print(f'Do nothing-mse on Mimic (without children) is {dummy_mse_mimic} \\n')"
   ]
  },
  {
   "cell_type": "code",
   "execution_count": null,
   "metadata": {},
   "outputs": [],
   "source": [
    "\"\"\"\"\"\"\"\"\"\"\n",
    "Do only if access to Euler otherwise pc goes in brrrr state\n",
    "#grid_search = GridSearchCV(rf, param_grid, cv=5, scoring='neg_mean_squared_error', n_jobs=-1)\n",
    "#grid_search.fit(X_train, y_train)\n",
    "#best_training_model = grid_search.best_estimator_\n",
    "#print(\"Finished grid search and selected best estimator \\n\")\n",
    "\"\"\"\"\"\"\"\"\"\"\""
   ]
  },
  {
   "cell_type": "markdown",
   "metadata": {},
   "source": [
    "## Refit"
   ]
  },
  {
   "cell_type": "code",
   "execution_count": 21,
   "metadata": {},
   "outputs": [],
   "source": [
    "test_dataframes = {\n",
    "    'hirid': df_hirid,\n",
    "    'mimic': df_mimic,\n",
    "    'miiv': df_miiv\n",
    "    }"
   ]
  },
  {
   "cell_type": "code",
   "execution_count": null,
   "metadata": {},
   "outputs": [],
   "source": [
    "mse_values = {name: {'lgbm': [], 'rf': [], 'ols': []} for name in test_dataframes}\n",
    "n_fine_tune_range = [25, 50, 100, 200, 400, 800, 1600]\n",
    "for name, df in test_dataframes.items():\n",
    "    X_test = df.drop('hr3', axis=1)\n",
    "    y_test = df['hr3']\n",
    "    \n",
    "    X_fine_tune, X_evaluate, y_fine_tune, y_evaluate = [], X_test_hirid, [], y_test_hirid\n",
    "\n",
    "    mse_values[name]['lgbm'].append(mean_squared_error(y_evaluate,lgbm.predict(X_evaluate,num_iteration=lgbm.best_iteration))**0.5) # Base line prediction - without fine tuning\n",
    "    mse_values[name]['rf'].append(mean_squared_error(y_evaluate,rf.predict(X_evaluate,num_iteration=rf.best_iteration))**0.5) # Base line prediction - without fine tuning\n",
    "    mse_values[name]['ols'].append(mean_squared_error(y_evaluate,ols.predict(X_evaluate))**0.5)\n",
    "    \n",
    "    for n_fine_tune in n_fine_tune_range:\n",
    "        X_fine_tune, X_evaluate, y_fine_tune, y_evaluate = train_test_split(X_test, y_test, train_size=n_fine_tune, random_state=42)\n",
    "        print(X_fine_tune.shape, X_evaluate.shape)\n",
    "\n",
    "        copied_model_lgbm = copy.deepcopy(lgbm)\n",
    "        tuned_lgbm=copied_model_lgbm.refit(X_fine_tune,y_fine_tune,validate_features=True)\n",
    "        mse_values[name]['lgbm'].append(mean_squared_error(y_evaluate, tuned_lgbm.predict(X_evaluate,num_iteration=tuned_lgbm.best_iteration))**0.5)\n",
    "\n",
    "        copied_model_rf = copy.deepcopy(rf)\n",
    "        tuned_rf=copied_model_rf.refit(X_fine_tune,y_fine_tune,validate_features=True)\n",
    "        mse_values[name]['rf'].append(mean_squared_error(y_evaluate, tuned_rf.predict(X_evaluate,num_iteration=tuned_rf.best_iteration))**0.5)\n",
    "        \n",
    "        mse_values[name]['ols'].append(mean_squared_error(y_evaluate, ols.predict(X_evaluate))**0.5)\n",
    "    #plot_mse_vs_tuning_points([0, 25, 50, 100, 200, 400, 800, 1600], [10, 10, 10, 10, 10, 10, 10, 10], mse_values_lgbm, name)\n"
   ]
  },
  {
   "cell_type": "code",
   "execution_count": 23,
   "metadata": {},
   "outputs": [],
   "source": [
    "mse_hirid_df = pd.DataFrame(mse_values['hirid'])\n",
    "mse_mimic_df = pd.DataFrame(mse_values['mimic'])\n",
    "mse_miiv_df = pd.DataFrame(mse_values['miiv'])"
   ]
  },
  {
   "cell_type": "code",
   "execution_count": 24,
   "metadata": {},
   "outputs": [
    {
     "data": {
      "text/plain": [
       "<Axes: >"
      ]
     },
     "execution_count": 24,
     "metadata": {},
     "output_type": "execute_result"
    },
    {
     "data": {
      "image/png": "[encoded data removed]",
      "text/plain": [
       "<Figure size 640x480 with 1 Axes>"
      ]
     },
     "metadata": {},
     "output_type": "display_data"
    },
    {
     "data": {
      "image/png": "[encoded data removed]",
      "text/plain": [
       "<Figure size 640x480 with 1 Axes>"
      ]
     },
     "metadata": {},
     "output_type": "display_data"
    },
    {
     "data": {
      "image/png": "[encoded data removed]",
      "text/plain": [
       "<Figure size 640x480 with 1 Axes>"
      ]
     },
     "metadata": {},
     "output_type": "display_data"
    }
   ],
   "source": [
    "mse_hirid_df.plot(ylim=(12, 15))\n",
    "mse_mimic_df.plot(ylim=(12, 18))\n",
    "mse_miiv_df.plot(ylim=(12, 15))"
   ]
  },
  {
   "cell_type": "markdown",
   "metadata": {},
   "source": [
    "### Anchor Regression + Residual RF  - location als anchor"
   ]
  },
  {
   "cell_type": "code",
   "execution_count": 138,
   "metadata": {},
   "outputs": [
    {
     "name": "stdout",
     "output_type": "stream",
     "text": [
      "12.109072462774071\n"
     ]
    },
    {
     "name": "stderr",
     "output_type": "stream",
     "text": [
      "/userdata/miniforge-pypy3/envs/dataICU/lib/python3.12/site-packages/lightgbm/basic.py:300: UserWarning: Converting column-vector to 1d array\n",
      "  _log_warning('Converting column-vector to 1d array')\n"
     ]
    }
   ],
   "source": [
    "gamma=2\n",
    "# Centering\n",
    "X_centered = X_train.drop(columns=['age', 'height', 'sex', 'weight']) - X_train.drop(columns=['age', 'height', 'sex', 'weight']).mean()\n",
    "Y_centered = y_train - y_train.mean()\n",
    "\n",
    "# Convert A to a NumPy array if it's a DataFrame for matrix operations\n",
    "A_matrix = X_train[['age', 'sex', 'weight', 'height']].values   \n",
    "# Fit a linear regression model for each independent variable in X_centered using A_matrix\n",
    "residuals_X = []\n",
    "fitted_values_X = []\n",
    "residuals_y = []\n",
    "fitted_values_y = []\n",
    "for column in X_centered.columns:\n",
    "    model = LR()\n",
    "    model.fit(A_matrix, X_centered[column])\n",
    "    residuals_X.append(X_centered[column] - model.predict(A_matrix))\n",
    "    fitted_values_X.append(model.predict(A_matrix))\n",
    "\n",
    "model = LR()\n",
    "model.fit(A_matrix, Y_centered)\n",
    "residuals_y.append(Y_centered - model.predict(A_matrix))\n",
    "fitted_values_y.append(model.predict(A_matrix))\n",
    "\n",
    "# Convert lists of residuals and fitted values to NumPy arrays\n",
    "residuals_X_matrix = np.column_stack(residuals_X)\n",
    "fitted_values_X_matrix = np.column_stack(fitted_values_X)\n",
    "residuals_y = np.column_stack(residuals_y)\n",
    "fitted_values_y = np.column_stack(fitted_values_y)\n",
    "\n",
    "# Compute anchor_data by adding residuals to the scaled fitted values\n",
    "anchor_data = residuals_X_matrix + np.sqrt(gamma) * fitted_values_X_matrix\n",
    "anchor_data_target = residuals_y + np.sqrt(gamma) * fitted_values_y\n",
    "\n",
    "anchor_reg = LR()\n",
    "anchor_reg.fit(anchor_data, anchor_data_target)\n",
    "pred_anchor = anchor_reg.predict(anchor_data)\n",
    "\n",
    "res_anchor = anchor_data_target - pred_anchor\n",
    "lgb_train = lgb.Dataset(data=X_centered, label=res_anchor,free_raw_data=False)\n",
    "anchor_rf = lgb.train(params_rf,\n",
    "                lgb_train,\n",
    "                valid_sets=lgb_train,\n",
    "                num_boost_round=10,\n",
    "                )\n",
    "pred_rf = anchor_rf.predict(X_centered).reshape(-1,1)\n",
    "pred_anchor_rf = pred_anchor + pred_rf\n",
    "print(mean_squared_error(Y_centered.values.reshape(-1, 1),pred_anchor_rf)**0.5)"
   ]
  }
 ],
 "metadata": {
  "kernelspec": {
   "display_name": "dataICU",
   "language": "python",
   "name": "python3"
  },
  "language_info": {
   "codemirror_mode": {
    "name": "ipython",
    "version": 3
   },
   "file_extension": ".py",
   "mimetype": "text/x-python",
   "name": "python",
   "nbconvert_exporter": "python",
   "pygments_lexer": "ipython3",
   "version": "3.12.0"
  }
 },
 "nbformat": 4,
 "nbformat_minor": 2
}
