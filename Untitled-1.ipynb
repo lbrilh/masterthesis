{
 "cells": [
  {
   "cell_type": "code",
   "execution_count": 1,
   "metadata": {},
   "outputs": [
    {
     "name": "stderr",
     "output_type": "stream",
     "text": [
      "/userdata/miniforge-pypy3/envs/dataICU/lib/python3.12/site-packages/tqdm/auto.py:21: TqdmWarning: IProgress not found. Please update jupyter and ipywidgets. See https://ipywidgets.readthedocs.io/en/stable/user_install.html\n",
      "  from .autonotebook import tqdm as notebook_tqdm\n"
     ]
    }
   ],
   "source": [
    "from sklearn.linear_model import LinearRegression as LR\n",
    "from sklearn.model_selection import train_test_split, GridSearchCV, cross_val_score\n",
    "from sklearn.metrics import mean_squared_error\n",
    "from sklearn.base import clone\n",
    "import pandas as pd\n",
    "import numpy as np\n",
    "import matplotlib.pyplot as plt\n",
    "import seaborn as sns\n",
    "import sweetviz as sv\n",
    "import copy\n",
    "import lightgbm as lgb\n",
    "import os\n",
    "import sys\n",
    "from ivmodels import AnchorRegression"
   ]
  },
  {
   "cell_type": "code",
   "execution_count": 3,
   "metadata": {},
   "outputs": [],
   "source": [
    "from lightgbm import Booster"
   ]
  },
  {
   "cell_type": "code",
   "execution_count": 2,
   "metadata": {},
   "outputs": [],
   "source": [
    "EICU_DATA_PATH_DYNAMIC = \"/userdata/lucabri/icu-experiments/data/processed/eicu_dynamic.parquet\"\n",
    "EICU_DATA_PATH_STATIC = \"/userdata/lucabri/icu-experiments/data/processed/eicu_static.parquet\"\n",
    "HIRID_DATA_PATH_DYNAMIC = \"/userdata/lucabri/icu-experiments/data/processed/hirid_dynamic.parquet\"\n",
    "HIRID_DATA_PATH_STATIC = \"/userdata/lucabri/icu-experiments/data/processed/hirid_static.parquet\"\n",
    "MIMIC_DATA_PATH_DYNAMIC = \"/userdata/lucabri/icu-experiments/data/processed/mimic_dynamic.parquet\"\n",
    "MIMIC_DATA_PATH_STATIC = \"/userdata/lucabri/icu-experiments/data/processed/mimic_static.parquet\"\n",
    "MIIV_DATA_PATH_STATIC = \"/userdata/lucabri/icu-experiments/data/processed/miiv_static.parquet\"\n",
    "MIIV_DATA_PATH_DYNAMIC = \"/userdata/lucabri/icu-experiments/data/processed/miiv_dynamic.parquet\""
   ]
  },
  {
   "cell_type": "code",
   "execution_count": null,
   "metadata": {},
   "outputs": [],
   "source": [
    "class AnchorLGBM:\n",
    "    r\"\"\"\n",
    "    Anchor Regression with residual lgbm estimation\n",
    "\n",
    "    Parameters\n",
    "    ----------\n",
    "    gamma : float\n",
    "        Gamma parameter to index the prior.\n",
    "    alpha : float\n",
    "        Regularization parameter for elastic net regularization.\n",
    "    prior : Anchor regressor\n",
    "        Prior.\n",
    "    params : dict\n",
    "        Parameter dictionary to for the LGBM Regressor\n",
    "    \"\"\"\n",
    "\n",
    "    def __init__(self, gamma, alpha, prior, params=None):\n",
    "        self.gamma_prior = gamma\n",
    "        self.prior = prior\n",
    "        self.alpha = alpha\n",
    "        self.params = params\n",
    "        self.model = None\n",
    "\n",
    "    def fit(self, X, y):  # noqa D\n",
    "        y_tilde = y - self.prior[self.gamma_prior].predict(X)\n",
    "        train_data = lgb.Dataset(X, label=y_tilde)\n",
    "        self.model = lgb.train(self.params, train_data)\n",
    "\n",
    "    def predict(self, X):  # noqa D\n",
    "        if self.model is None:\n",
    "            raise ValueError(\"Model has not been trained yet. Call train() first.\")\n",
    "        \n",
    "        y_prior = self.prior[self.gamma_prior].predict(X)\n",
    "        # Use the trained model to make predictions\n",
    "        return self.model.predict(X) + y_prior"
   ]
  }
 ],
 "metadata": {
  "kernelspec": {
   "display_name": "dataICU",
   "language": "python",
   "name": "python3"
  },
  "language_info": {
   "codemirror_mode": {
    "name": "ipython",
    "version": 3
   },
   "file_extension": ".py",
   "mimetype": "text/x-python",
   "name": "python",
   "nbconvert_exporter": "python",
   "pygments_lexer": "ipython3",
   "version": "3.12.0"
  }
 },
 "nbformat": 4,
 "nbformat_minor": 2
}
